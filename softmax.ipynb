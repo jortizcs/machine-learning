{
 "cells": [
  {
   "cell_type": "code",
   "execution_count": 4,
   "metadata": {
    "collapsed": false
   },
   "outputs": [],
   "source": [
    "import numpy as np\n",
    "def softmax(x):\n",
    "    x = np.asarray(x)\n",
    "    \"\"\"Compute softmax values for each sets of scores in x.\"\"\"\n",
    "    if len(x.shape)>1:\n",
    "        \n",
    "        x_t = np.transpose(x)\n",
    "        out = None\n",
    "        for k in range(x_t.shape[0]):\n",
    "            d = np.sum([np.exp(i) for i in x_t[k]])\n",
    "            res = np.asarray([np.exp(j)/d for j in x_t[k]])\n",
    "            if out==None:\n",
    "                out = res\n",
    "            else:\n",
    "                out=np.vstack((out,res))\n",
    "        return np.transpose(out)\n",
    "    else:\n",
    "        d = np.sum([np.exp(i) for i in x])\n",
    "        return np.asarray([np.exp(j)/d for j in x])"
   ]
  },
  {
   "cell_type": "code",
   "execution_count": 6,
   "metadata": {
    "collapsed": false
   },
   "outputs": [
    {
     "data": {
      "text/plain": [
       "array([[ 0.5,  0.5,  0.5],\n",
       "       [ 0.5,  0.5,  0.5]])"
      ]
     },
     "execution_count": 6,
     "metadata": {},
     "output_type": "execute_result"
    }
   ],
   "source": [
    "softmax([[1,2,3],[1,2,3]]\n",
    "       )"
   ]
  },
  {
   "cell_type": "code",
   "execution_count": null,
   "metadata": {
    "collapsed": true
   },
   "outputs": [],
   "source": []
  }
 ],
 "metadata": {
  "kernelspec": {
   "display_name": "Python 2",
   "language": "python",
   "name": "python2"
  },
  "language_info": {
   "codemirror_mode": {
    "name": "ipython",
    "version": 2
   },
   "file_extension": ".py",
   "mimetype": "text/x-python",
   "name": "python",
   "nbconvert_exporter": "python",
   "pygments_lexer": "ipython2",
   "version": "2.7.10"
  }
 },
 "nbformat": 4,
 "nbformat_minor": 0
}
